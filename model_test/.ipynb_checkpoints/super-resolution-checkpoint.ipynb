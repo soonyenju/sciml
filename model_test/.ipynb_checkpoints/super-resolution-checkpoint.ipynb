{
 "cells": [
  {
   "cell_type": "code",
   "execution_count": 1,
   "id": "f6a65bd3-0e03-4f8f-88c4-f0a94a9daf4b",
   "metadata": {},
   "outputs": [
    {
     "name": "stdout",
     "output_type": "stream",
     "text": [
      "Command '['C:\\\\Users\\\\sz2e24\\\\AppData\\\\Local\\\\anaconda3\\\\python.exe', '-m', 'pip', 'install', 'git+https://github.com/soonyenju/scigeo.git']' returned non-zero exit status 1., trying another solution...\n",
      "Command '['C:\\\\Users\\\\sz2e24\\\\AppData\\\\Local\\\\anaconda3\\\\python.exe', '-m', 'pip', 'install', 'git+https://github.com/soonyenju/scieco.git']' returned non-zero exit status 1., trying another solution...\n",
      "Command '['C:\\\\Users\\\\sz2e24\\\\AppData\\\\Local\\\\anaconda3\\\\python.exe', '-m', 'pip', 'install', 'git+https://github.com/soonyenju/sciml.git']' returned non-zero exit status 1., trying another solution...\n"
     ]
    }
   ],
   "source": [
    "# !pip install scitbx\n",
    "from scitbx.easy_import import *"
   ]
  },
  {
   "cell_type": "code",
   "execution_count": 2,
   "id": "46f02c2c-4ced-4166-8076-ab3bf73a2f6f",
   "metadata": {},
   "outputs": [],
   "source": [
    "def load_s2(p, small = True):\n",
    "    s2 = geoface.load_tif(p, band_names = [\n",
    "        'B1', 'B2', 'B3', 'B4', 'B5', 'B6', 'B7', 'B8', 'B8A', 'B9', 'B11', 'B12'\n",
    "    ]) / 1e4\n",
    "    s2['NDVI'] = (s2['B8'] - s2['B4']) / (s2['B8'] + s2['B4'])\n",
    "    s2 = s2['NDVI'].rename('S2 NDVI (10m)'); s2 = s2.where(s2 > 0)\n",
    "    if small:\n",
    "        s2 = s2.isel(latitude = slice(300, 600), longitude = slice(700, 1000))\n",
    "    return s2.drop_vars('spatial_ref')\n",
    "\n",
    "def load_modis(p):\n",
    "    modis = geoface.load_tif(p, band_names = [\n",
    "        'Nadir_Reflectance_Band1', 'Nadir_Reflectance_Band2',\n",
    "        'Nadir_Reflectance_Band3', 'Nadir_Reflectance_Band4',\n",
    "        'Nadir_Reflectance_Band5', 'Nadir_Reflectance_Band6', 'Nadir_Reflectance_Band7'\n",
    "    ]) / 1e4\n",
    "    modis['NDVI'] = (modis['Nadir_Reflectance_Band2'] - modis['Nadir_Reflectance_Band1']) / (modis['Nadir_Reflectance_Band2'] + modis['Nadir_Reflectance_Band1'])\n",
    "    modis = modis['NDVI'].rename('MODIS NDVI (500m)'); modis = modis.where(modis > 0)\n",
    "    return modis.drop_vars('spatial_ref')\n",
    "\n",
    "def proc_modis(modis, s2):\n",
    "    modis_interp = modis.interp(latitude = s2.latitude, longitude = s2.longitude)\n",
    "    modis_data = modis_interp.data\n",
    "    # # Normalize data (0-1)\n",
    "    # modis_1 = (modis_1 - np.min(modis_1)) / (np.max(modis_1) - np.min(modis_1))\n",
    "    modis_data[np.isnan(modis_data)] = 0\n",
    "    # Reshape for CNN input (batch, height, width, channels)\n",
    "    modis_data = np.expand_dims(modis_data, axis=(0, -1))  # (1, H, W, 1)\n",
    "    return modis_interp, modis_data\n",
    "\n",
    "def proc_s2(s):\n",
    "    s2_data = s2.data\n",
    "    # # Normalize data (0-1)\n",
    "    # s2_data = (s2_data - np.min(s2_data)) / (np.max(s2_data) - np.min(s2_data))\n",
    "    s2_data[np.isnan(s2_data)] = 0\n",
    "    # Reshape for CNN input (batch, height, width, channels)\n",
    "    s2_data = np.expand_dims(s2_data, axis=(0, -1))  # (1, H, W, 1)\n",
    "    return s2_data"
   ]
  },
  {
   "cell_type": "code",
   "execution_count": null,
   "id": "d1d260af-8d90-4cfb-9892-d5f14be2c4cf",
   "metadata": {},
   "outputs": [],
   "source": [
    "s2 = load_s2('data/S2.tif')\n",
    "modis_1 = load_modis('MODIS_1.tif')\n",
    "modis_2 = load_modis('MODIS_2.tif')"
   ]
  },
  {
   "cell_type": "code",
   "execution_count": null,
   "id": "43676074-24f7-4ebc-9aed-44908b6127d3",
   "metadata": {},
   "outputs": [],
   "source": [
    "s2_data = proc_s2(s2)\n",
    "modis_interp_1, modis_data_1 = proc_modis(modis_1, s2)\n",
    "modis_interp_2, modis_data_2 = proc_modis(modis_2, s2)"
   ]
  },
  {
   "cell_type": "code",
   "execution_count": null,
   "id": "01607d0a-156f-46cc-af2b-1e6b92d2262b",
   "metadata": {},
   "outputs": [],
   "source": [
    "fig, axes = setup_canvas(1, 3, figsize = (10, 3), wspace = 0.1)\n",
    "ax = axes[0]\n",
    "modis_1.plot(ax = ax)\n",
    "ax = axes[1]\n",
    "modis_interp_1.plot(ax = ax)\n",
    "ax = axes[2]\n",
    "s2.plot(ax = ax)"
   ]
  },
  {
   "cell_type": "code",
   "execution_count": null,
   "id": "f71a3a25-f7dd-4576-b4c1-58d42f451b0f",
   "metadata": {},
   "outputs": [],
   "source": [
    "from sciml.models import TextureFusionSRCNN\n",
    "\n",
    "model = TextureFusionSRCNN(learning_rate=0.001)\n",
    "model.train(modis_data_1, s2_data, epochs=50, save_path='texture_fusion_model.keras')\n",
    "\n",
    "# Load trained model\n",
    "model = TextureFusionSRCNN.load('texture_fusion_model.keras')"
   ]
  },
  {
   "cell_type": "code",
   "execution_count": null,
   "id": "c5240bb4-d833-4aab-b49a-67653960121d",
   "metadata": {},
   "outputs": [],
   "source": [
    "# Apply model\n",
    "modis_high = xr.DataArray(\n",
    "    model.apply(modis_data_2, s2_data),\n",
    "    dims=(\"latitude\", \"longitude\"),\n",
    "    coords={\"latitude\": s2.latitude, \"longitude\": s2.longitude},\n",
    "    name=\"MODIS NDVI (10m)\"\n",
    ")"
   ]
  },
  {
   "cell_type": "code",
   "execution_count": null,
   "id": "5f700b86-e2d4-4dc4-a6e0-e540e3de805e",
   "metadata": {},
   "outputs": [],
   "source": [
    "s2.plot(vmin = 0, vmax = 0.8)"
   ]
  },
  {
   "cell_type": "code",
   "execution_count": null,
   "id": "16c6905a-fce8-4c4a-9978-c6c900a9690b",
   "metadata": {},
   "outputs": [],
   "source": [
    "modis_high.plot(vmin = 0, vmax = 0.8)"
   ]
  },
  {
   "cell_type": "code",
   "execution_count": null,
   "id": "9ab7f599-ea1d-496a-8b3f-2226ffa61dcd",
   "metadata": {},
   "outputs": [],
   "source": [
    "dfp = pd.concat([modis_high.to_dataframe(), s2.to_dataframe()], axis = 1)\n",
    "dfp.plot.scatter(x = 'S2 NDVI (10m)', y = 'MODIS NDVI (10m)')"
   ]
  },
  {
   "cell_type": "code",
   "execution_count": null,
   "id": "a0a1abcd-0162-4df4-bbae-02b7668446ef",
   "metadata": {},
   "outputs": [],
   "source": [
    "dfp = pd.concat([modis_1.rename('MODIS_1').to_dataframe(), modis_1.rename('MODIS_2').to_dataframe()], axis = 1)\n",
    "dfp.plot.scatter(x = 'MODIS_1', y = 'MODIS_2')"
   ]
  }
 ],
 "metadata": {
  "kernelspec": {
   "display_name": "Python 3 (ipykernel)",
   "language": "python",
   "name": "python3"
  },
  "language_info": {
   "codemirror_mode": {
    "name": "ipython",
    "version": 3
   },
   "file_extension": ".py",
   "mimetype": "text/x-python",
   "name": "python",
   "nbconvert_exporter": "python",
   "pygments_lexer": "ipython3",
   "version": "3.12.3"
  }
 },
 "nbformat": 4,
 "nbformat_minor": 5
}
